{
  "nbformat": 4,
  "nbformat_minor": 0,
  "metadata": {
    "colab": {
      "private_outputs": true,
      "provenance": []
    },
    "kernelspec": {
      "name": "python3",
      "display_name": "Python 3"
    },
    "language_info": {
      "name": "python"
    }
  },
  "cells": [
    {
      "cell_type": "markdown",
      "source": [
        "#Theory Questions:\n",
        "\n",
        " 1. What is the difference between a function and a method in Python?\n",
        " -> A function is a block of coad that does its job  and a methord is a funtion that belong to an object\n",
        "\n",
        "  funtion used by print() , len() and methord use ny(.) , list.append(s)  \n",
        "\n",
        "  Funtion does not belong to any object whereas methord belong to an object .\n",
        "\n",
        "  example of funtion -:\n",
        "         \n",
        "           def greeting():\n",
        "           print(\"hello\")\n",
        "           greeting()\n",
        "\n",
        "   example of mrthord\n",
        "        \n",
        "         \"hello\".upper()\n",
        "          my_list.sort()      \n",
        "\n",
        " 2. Explain the concept of function arguments and parameters in Python.\n",
        " -> Parameters are placeholders or variables that you define when creating a function.\n",
        "\n",
        "Parameters  tell the function what kind of data it should expect.\n",
        "\n",
        "Example-\n",
        "\n",
        "     def greet(name):   # 'name' is a parameter\n",
        "     print(\"Hello\", name)\n",
        "\n",
        "arguments  are the actual values you pass into the function when you call it.\n",
        "\n",
        "\n",
        "arguments go inside the parentheses\n",
        "example\n",
        "\n",
        "    greet(\"Deepak\")    # \"Deepak\" is an argument of the function call.\n",
        " 3. What are the different ways to define and call a function in Python?\n",
        " ->there are many way to define and call a funtion\n",
        "\n",
        " 1= simple function\n",
        "\n",
        " 2= function with perameter\n",
        "\n",
        " 3=function with default perameter\n",
        "\n",
        " 4=funtion with multiple parameter\n",
        "\n",
        " 5= use args\n",
        "\n",
        " 6=use kearg\n",
        "\n",
        " 7= use lambda\n",
        "\n",
        " 4. What is the purpose of the `return` statement in a Python function?\n",
        " ->The return statement is used to send a result back from a function to the place where the function was called\n",
        "\n",
        "\n",
        " 5. What are iterators in Python and how do they differ from iterables?\n",
        " -> An iterator is an object representing a stream of data.\n",
        "\n",
        " itrable cannot use next() where as itrator can use next()\n",
        "\n",
        "\n",
        " 6. Explain the concept of generators in Python and how they are defined.\n",
        " ->  Generator is a special type of function in Python that returns values one at a time, only when needed, using the yield keyword instead of return.\n",
        "\n",
        " you can define concept of genrator b7y using yield inted of return\n",
        "\n",
        " 7. What are the advantages of using generators over regular functions?\n",
        " ->some advantages are\n",
        "\n",
        " 1= Genrator dont store all value in memories\n",
        "\n",
        " 2=Since generators don’t compute everything at once, they start faster.\n",
        "\n",
        " 3=A generator only runs when you ask for the next value using next() or a for loop.\n",
        "\n",
        " 4=After each yield, the generator remembers where it left off.\n",
        "\n",
        "5= easy to use with loop\n",
        "\n",
        " 8. What is a lambda function in Python and when is it typically used?\n",
        " ->A lambda function in Python is a small, one-line function that you can write without using def.\n",
        "\n",
        " lambda functions are used when you need a quick, small function — especially for short-term use.\n",
        "\n",
        " 9. Explain the purpose and usage of the `map()` function in Python.\n",
        " ->The map() function is used to apply a function to each item in a list (or any iterable), and return a new map object (which can be converted to a list) with the results.\n",
        "\n",
        " 10. What is the difference between `map()`, `reduce()`, and `filter() functions in Python?\n",
        "\n",
        "  ->map()\t1=Apply function to all items\n",
        "       2= New transformed iterable\n",
        "      3= Double all numbers\n",
        "\n",
        "  filter()1= Keep items matching condition\n",
        "       2=Filtered iterable\n",
        "       3=Keep even numbers\n",
        "11. Using pen & Paper write the internal mechanism for sum operation using  reduce function on this given  list:[47,11,42,13];\n",
        "->\n",
        "blob:https://colab.research.google.com/074474ab-19d0-40e7-89d0-2f5029665a47"
      ],
      "metadata": {
        "id": "8YbjEyi-Ibf9"
      }
    },
    {
      "cell_type": "markdown",
      "source": [
        "#PRACTICAL QUESTIONS"
      ],
      "metadata": {
        "id": "w3X-rIXEQ4aU"
      }
    },
    {
      "cell_type": "code",
      "execution_count": null,
      "metadata": {
        "id": "CyPhyZ1yIfnv"
      },
      "outputs": [],
      "source": [
        "#  1. Write a Python function that takes a list of numbers as input and returns the sum of all even numbers in\n",
        "the list.\n",
        "\n",
        "# ANSWER\n",
        "def sum_even_number(numbers):\n",
        "    return sum(num for num in numbers if num % 2 == 0)\n",
        "\n",
        ""
      ]
    },
    {
      "cell_type": "code",
      "source": [
        " # 2. Create a Python function that accepts a string and returns the reverse of that string\n",
        " def reverse_string(input_strings):\n",
        "      return input_string[::-1]"
      ],
      "metadata": {
        "id": "rQcW5IIMRzJC"
      },
      "execution_count": null,
      "outputs": []
    },
    {
      "cell_type": "code",
      "source": [
        "# 3.Implement a Python function that takes a list of integers and returns a new list containing the squares of\n",
        "each number\n",
        "\n",
        "#answer\n",
        "def square_number(numbers):\n",
        "     return [num ** 2 for num in numbers]"
      ],
      "metadata": {
        "id": "vcd6lhXRSic2"
      },
      "execution_count": null,
      "outputs": []
    },
    {
      "cell_type": "code",
      "source": [
        "# 4. Write a Python function that checks if a given number is prime or not from 1 to 200\n",
        "#ANSWER\n",
        "def is_prime(number):\n",
        "    if number <= 1:\n",
        "        return False\n",
        "\n",
        "for num in range(1, 201):\n",
        "    if is_prime(num):\n",
        "        print(f\"{num} is a prime number.\")\n",
        "    else:\n",
        "        print(f\"{num} is not a prime number.\")"
      ],
      "metadata": {
        "id": "nDxXX3dgS-MZ"
      },
      "execution_count": null,
      "outputs": []
    },
    {
      "cell_type": "code",
      "source": [
        "# 5. Create an iterator class in Python that generates the Fibonacci sequence up to a specified number of terms\n"
      ],
      "metadata": {
        "id": "gKGcPZ73Tm4L"
      },
      "execution_count": null,
      "outputs": []
    },
    {
      "cell_type": "code",
      "source": [
        "# 6.Write a generator function in Python that yields the powers of 2 up to a given exponent.\n",
        "#answerdef\n",
        "powers_of_two(max_exponent):\n",
        "   for exponent in range(max_exponent + 1):\n",
        "        yield 2 ** exponent\n"
      ],
      "metadata": {
        "id": "LvcG40KDUOTK"
      },
      "execution_count": null,
      "outputs": []
    },
    {
      "cell_type": "code",
      "source": [
        " #7.Implement a generator function that reads a file line by line and yields each line as a string\n",
        " #answer\n",
        " def read_file_line_by_line(file_path):\n",
        "     with open(file_path, 'r') as file:\n",
        "        for line in file:\n",
        "            yield line.rstrip('\\n')"
      ],
      "metadata": {
        "id": "m6c1E7gaU27u"
      },
      "execution_count": null,
      "outputs": []
    },
    {
      "cell_type": "code",
      "source": [
        "# 8. Use a lambda function in Python to sort a list of tuples based on the second element of each tuple.\n",
        "#answer\n",
        "sorted_data = sorted(data, key=lambda x: x[1])"
      ],
      "metadata": {
        "id": "vg53W3JSVOwA"
      },
      "execution_count": null,
      "outputs": []
    },
    {
      "cell_type": "code",
      "source": [
        " #9. Write a Python program that uses `map()` to convert a list of temperatures from Celsius to Fahrenheit\n",
        " #answer\n",
        "fahrenheit_temps = list(map(lambda c: (c * 9/5) + 32, celsius_temps))\n",
        "print(\"Celsius:\", celsius_temps)\n",
        "print(\"Fahrenheit:\", fahrenheit_temps)"
      ],
      "metadata": {
        "id": "IUVf0BdFVbfh"
      },
      "execution_count": null,
      "outputs": []
    },
    {
      "cell_type": "code",
      "source": [
        "#10. Create a Python program that uses `filter()` to remove all the vowels from a given string"
      ],
      "metadata": {
        "id": "ZpP5Ya1uVy6z"
      },
      "execution_count": null,
      "outputs": []
    },
    {
      "cell_type": "code",
      "source": [
        "#11) Imagine an accounting routine used in a book shop. It works on a list with sublists, which look like this:\n",
        " Write a Python program, which returns a list with 2-tuples. Each tuple consists of the order number and the\n",
        "product of the price per item and the quantity. The product should be increased by 10,- € if the value of the\n",
        "order is smaller than 100,00 €.\n",
        " Write a Python program using lambda and map"
      ],
      "metadata": {
        "id": "AG4CcLiDVytj"
      },
      "execution_count": null,
      "outputs": []
    }
  ]
}